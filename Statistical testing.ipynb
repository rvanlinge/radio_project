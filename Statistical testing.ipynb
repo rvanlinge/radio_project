{
 "cells": [
  {
   "cell_type": "code",
   "execution_count": 2,
   "metadata": {},
   "outputs": [],
   "source": [
    "import numpy as np \n",
    "import pandas as pd\n",
    "import matplotlib.pyplot as plt\n",
    "import glob as glob"
   ]
  },
  {
   "cell_type": "markdown",
   "metadata": {},
   "source": [
    "## reading in all the data tables\n"
   ]
  },
  {
   "cell_type": "code",
   "execution_count": 75,
   "metadata": {},
   "outputs": [],
   "source": [
    "dt = glob.glob('1314/*-LLRR.dat')"
   ]
  },
  {
   "cell_type": "code",
   "execution_count": 4,
   "metadata": {},
   "outputs": [
    {
     "data": {
      "text/plain": [
       "['1314/2M1314e18-LLRR.dat',\n",
       " '1314/2M1314e3-LLRR.dat',\n",
       " '1314/2M1314e17-LLRR.dat',\n",
       " '1314/2M1314e9-LLRR.dat',\n",
       " '1314/2M1314e7-LLRR.dat',\n",
       " '1314/2M1314e8-LLRR.dat',\n",
       " '1314/2M1314e14-LLRR.dat',\n",
       " '1314/2M1314e1-LLRR.dat',\n",
       " '1314/2M1314e2-LLRR.dat',\n",
       " '1314/2M1314e15-LLRR.dat',\n",
       " '1314/2M1314e5-LLRR.dat',\n",
       " '1314/2M1314e10-LLRR.dat',\n",
       " '1314/2M1314e19-LLRR.dat',\n",
       " '1314/2M1314e4-LLRR.dat',\n",
       " '1314/2M1314e12-LLRR.dat',\n",
       " '1314/2M1314e11-LLRR.dat',\n",
       " '1314/2M1314e20-LLRR.dat',\n",
       " '1314/2M1314e16-LLRR.dat',\n",
       " '1314/2M1314e6-LLRR.dat',\n",
       " '1314/2M1314e13-LLRR.dat']"
      ]
     },
     "execution_count": 4,
     "metadata": {},
     "output_type": "execute_result"
    }
   ],
   "source": [
    "dt"
   ]
  },
  {
   "cell_type": "code",
   "execution_count": 76,
   "metadata": {},
   "outputs": [],
   "source": [
    "x = []\n",
    "for i in dt:\n",
    "    x.append(pd.read_table(i))\n"
   ]
  },
  {
   "cell_type": "code",
   "execution_count": 77,
   "metadata": {},
   "outputs": [],
   "source": [
    "mjd = []\n",
    "rms = []\n",
    "reduced_chi = []\n",
    "\n",
    "for i in x:\n",
    "    mjd.append(i['mjd'].mean())\n",
    "    rms.append(np.sqrt(np.sum((i['re']-i['re'].mean())**2))/i.shape[0])\n",
    "    reduced_chi.append(np.sum(np.square((i['re']-i['re'].mean())/i['ure']))/(i.shape[0]-1))\n",
    "    \n",
    "mjd = np.array(mjd)\n",
    "rms = np.array(rms)\n",
    "reduced_chi = np.array(reduced_chi)"
   ]
  },
  {
   "cell_type": "code",
   "execution_count": 78,
   "metadata": {},
   "outputs": [],
   "source": [
    "stats = pd.DataFrame(data={'mjd':mjd,'reduced_chi':reduced_chi,'rms':rms})\n",
    "stats = stats.sort_values('mjd')\n",
    "stats = stats.reset_index(drop=True)"
   ]
  },
  {
   "cell_type": "code",
   "execution_count": 42,
   "metadata": {},
   "outputs": [
    {
     "data": {
      "text/html": [
       "<div>\n",
       "<style scoped>\n",
       "    .dataframe tbody tr th:only-of-type {\n",
       "        vertical-align: middle;\n",
       "    }\n",
       "\n",
       "    .dataframe tbody tr th {\n",
       "        vertical-align: top;\n",
       "    }\n",
       "\n",
       "    .dataframe thead th {\n",
       "        text-align: right;\n",
       "    }\n",
       "</style>\n",
       "<table border=\"1\" class=\"dataframe\">\n",
       "  <thead>\n",
       "    <tr style=\"text-align: right;\">\n",
       "      <th></th>\n",
       "      <th>mjd</th>\n",
       "      <th>reduced_chi</th>\n",
       "      <th>rms</th>\n",
       "    </tr>\n",
       "  </thead>\n",
       "  <tbody>\n",
       "    <tr>\n",
       "      <th>0</th>\n",
       "      <td>57425.506605</td>\n",
       "      <td>0.780537</td>\n",
       "      <td>0.005647</td>\n",
       "    </tr>\n",
       "    <tr>\n",
       "      <th>1</th>\n",
       "      <td>57437.457583</td>\n",
       "      <td>1.312207</td>\n",
       "      <td>0.007435</td>\n",
       "    </tr>\n",
       "    <tr>\n",
       "      <th>2</th>\n",
       "      <td>57452.489273</td>\n",
       "      <td>2.991448</td>\n",
       "      <td>0.012832</td>\n",
       "    </tr>\n",
       "    <tr>\n",
       "      <th>3</th>\n",
       "      <td>57465.226390</td>\n",
       "      <td>1.673695</td>\n",
       "      <td>0.009733</td>\n",
       "    </tr>\n",
       "    <tr>\n",
       "      <th>4</th>\n",
       "      <td>57481.170270</td>\n",
       "      <td>1.321906</td>\n",
       "      <td>0.007674</td>\n",
       "    </tr>\n",
       "    <tr>\n",
       "      <th>5</th>\n",
       "      <td>57493.139864</td>\n",
       "      <td>2.638659</td>\n",
       "      <td>0.012303</td>\n",
       "    </tr>\n",
       "    <tr>\n",
       "      <th>6</th>\n",
       "      <td>57508.351630</td>\n",
       "      <td>1.043569</td>\n",
       "      <td>0.007675</td>\n",
       "    </tr>\n",
       "    <tr>\n",
       "      <th>7</th>\n",
       "      <td>57522.261785</td>\n",
       "      <td>1.328460</td>\n",
       "      <td>0.007386</td>\n",
       "    </tr>\n",
       "    <tr>\n",
       "      <th>8</th>\n",
       "      <td>57536.190674</td>\n",
       "      <td>1.079984</td>\n",
       "      <td>0.006685</td>\n",
       "    </tr>\n",
       "    <tr>\n",
       "      <th>9</th>\n",
       "      <td>57551.056628</td>\n",
       "      <td>1.118164</td>\n",
       "      <td>0.008203</td>\n",
       "    </tr>\n",
       "    <tr>\n",
       "      <th>10</th>\n",
       "      <td>57565.150769</td>\n",
       "      <td>1.108179</td>\n",
       "      <td>0.008507</td>\n",
       "    </tr>\n",
       "    <tr>\n",
       "      <th>11</th>\n",
       "      <td>57577.096124</td>\n",
       "      <td>0.868623</td>\n",
       "      <td>0.006878</td>\n",
       "    </tr>\n",
       "    <tr>\n",
       "      <th>12</th>\n",
       "      <td>57606.036813</td>\n",
       "      <td>0.925865</td>\n",
       "      <td>0.007082</td>\n",
       "    </tr>\n",
       "    <tr>\n",
       "      <th>13</th>\n",
       "      <td>57620.018996</td>\n",
       "      <td>1.924250</td>\n",
       "      <td>0.011636</td>\n",
       "    </tr>\n",
       "    <tr>\n",
       "      <th>14</th>\n",
       "      <td>57634.996105</td>\n",
       "      <td>6.661099</td>\n",
       "      <td>0.022337</td>\n",
       "    </tr>\n",
       "    <tr>\n",
       "      <th>15</th>\n",
       "      <td>57648.965254</td>\n",
       "      <td>1.009544</td>\n",
       "      <td>0.007960</td>\n",
       "    </tr>\n",
       "    <tr>\n",
       "      <th>16</th>\n",
       "      <td>57682.721450</td>\n",
       "      <td>0.987216</td>\n",
       "      <td>0.007267</td>\n",
       "    </tr>\n",
       "    <tr>\n",
       "      <th>17</th>\n",
       "      <td>57704.824840</td>\n",
       "      <td>1.395583</td>\n",
       "      <td>0.007620</td>\n",
       "    </tr>\n",
       "    <tr>\n",
       "      <th>18</th>\n",
       "      <td>57771.525539</td>\n",
       "      <td>3.379144</td>\n",
       "      <td>0.012061</td>\n",
       "    </tr>\n",
       "    <tr>\n",
       "      <th>19</th>\n",
       "      <td>57832.294937</td>\n",
       "      <td>1.720842</td>\n",
       "      <td>0.008605</td>\n",
       "    </tr>\n",
       "  </tbody>\n",
       "</table>\n",
       "</div>"
      ],
      "text/plain": [
       "             mjd  reduced_chi       rms\n",
       "0   57425.506605     0.780537  0.005647\n",
       "1   57437.457583     1.312207  0.007435\n",
       "2   57452.489273     2.991448  0.012832\n",
       "3   57465.226390     1.673695  0.009733\n",
       "4   57481.170270     1.321906  0.007674\n",
       "5   57493.139864     2.638659  0.012303\n",
       "6   57508.351630     1.043569  0.007675\n",
       "7   57522.261785     1.328460  0.007386\n",
       "8   57536.190674     1.079984  0.006685\n",
       "9   57551.056628     1.118164  0.008203\n",
       "10  57565.150769     1.108179  0.008507\n",
       "11  57577.096124     0.868623  0.006878\n",
       "12  57606.036813     0.925865  0.007082\n",
       "13  57620.018996     1.924250  0.011636\n",
       "14  57634.996105     6.661099  0.022337\n",
       "15  57648.965254     1.009544  0.007960\n",
       "16  57682.721450     0.987216  0.007267\n",
       "17  57704.824840     1.395583  0.007620\n",
       "18  57771.525539     3.379144  0.012061\n",
       "19  57832.294937     1.720842  0.008605"
      ]
     },
     "execution_count": 42,
     "metadata": {},
     "output_type": "execute_result"
    }
   ],
   "source": [
    "stats"
   ]
  },
  {
   "cell_type": "code",
   "execution_count": 79,
   "metadata": {},
   "outputs": [
    {
     "data": {
      "image/png": "[encoded data removed]",
      "text/plain": [
       "<Figure size 720x504 with 2 Axes>"
      ]
     },
     "metadata": {
      "needs_background": "light"
     },
     "output_type": "display_data"
    }
   ],
   "source": [
    "fig, ax = plt.subplots(nrows=2,ncols=1,sharex=True,figsize=(10,7),gridspec_kw = {'hspace':0})\n",
    "ax[0].plot(stats.index,stats['reduced_chi'],color='k',marker='o')\n",
    "ax[0].set_ylabel('Reduced $\\chi^2$')\n",
    "\n",
    "ax[1].plot(stats.index,stats['rms'],color='k',marker='o')\n",
    "ax[1].set_ylabel('RMS')\n",
    "\n",
    "pos = np.arange(20)\n",
    "labels = pos + 1\n",
    "\n",
    "plt.xticks(pos,labels)\n",
    "plt.xlabel('Epoch')\n",
    "plt.savefig('plots/1314_Stats.png')\n",
    "plt.show()\n"
   ]
  },
  {
   "cell_type": "code",
   "execution_count": 55,
   "metadata": {},
   "outputs": [
    {
     "data": {
      "text/plain": [
       "array([ 1,  2,  3,  4,  5,  6,  7,  8,  9, 10, 11, 12, 13, 14, 15, 16, 17,\n",
       "       18, 19, 20])"
      ]
     },
     "execution_count": 55,
     "metadata": {},
     "output_type": "execute_result"
    }
   ],
   "source": [
    "pos"
   ]
  },
  {
   "cell_type": "code",
   "execution_count": 83,
   "metadata": {},
   "outputs": [],
   "source": [
    "dt = glob.glob('1315/*-LLRR.dat')\n",
    "\n",
    "x = []\n",
    "for i in dt:\n",
    "    x.append(pd.read_table(i))\n",
    "\n",
    "mjd = []\n",
    "rms = []\n",
    "reduced_chi = []\n",
    "\n",
    "for i in x:\n",
    "    mjd.append(i['mjd'].mean())\n",
    "    rms.append(np.sqrt(np.sum((i['re']-i['re'].mean())**2))/i.shape[0])\n",
    "    reduced_chi.append(np.sum(np.square((i['re']-i['re'].mean())/i['ure']))/(i.shape[0]-1))\n",
    "    \n",
    "mjd = np.array(mjd)\n",
    "rms = np.array(rms)\n",
    "reduced_chi = np.array(reduced_chi)\n",
    "\n",
    "stats = pd.DataFrame(data={'mjd':mjd,'reduced_chi':reduced_chi,'rms':rms})\n",
    "stats = stats.sort_values('mjd')\n",
    "stats = stats.reset_index(drop=True)"
   ]
  },
  {
   "cell_type": "code",
   "execution_count": 88,
   "metadata": {},
   "outputs": [
    {
     "data": {
      "image/png": "[encoded data removed]",
      "text/plain": [
       "<Figure size 720x504 with 2 Axes>"
      ]
     },
     "metadata": {
      "needs_background": "light"
     },
     "output_type": "display_data"
    }
   ],
   "source": [
    "fig, ax = plt.subplots(nrows=2,ncols=1,sharex=True,figsize=(10,7),gridspec_kw = {'hspace':0})\n",
    "ax[0].plot(stats.index,stats['reduced_chi'],color='k',marker='o')\n",
    "ax[0].set_ylabel('Reduced $\\chi^2$')\n",
    "ax[0].set_ylim(0.2,1.5)\n",
    "\n",
    "\n",
    "ax[1].plot(stats.index,stats['rms'],color='k',marker='o')\n",
    "ax[1].set_ylabel('RMS')\n",
    "\n",
    "pos = np.arange(20)\n",
    "labels = pos + 1\n",
    "\n",
    "plt.xticks(pos,labels)\n",
    "plt.xlabel('Epoch')\n",
    "#plt.savefig('plots/1315_Stats.png')\n",
    "plt.show()\n"
   ]
  },
  {
   "cell_type": "code",
   "execution_count": 72,
   "metadata": {},
   "outputs": [
    {
     "data": {
      "text/html": [
       "<div>\n",
       "<style scoped>\n",
       "    .dataframe tbody tr th:only-of-type {\n",
       "        vertical-align: middle;\n",
       "    }\n",
       "\n",
       "    .dataframe tbody tr th {\n",
       "        vertical-align: top;\n",
       "    }\n",
       "\n",
       "    .dataframe thead th {\n",
       "        text-align: right;\n",
       "    }\n",
       "</style>\n",
       "<table border=\"1\" class=\"dataframe\">\n",
       "  <thead>\n",
       "    <tr style=\"text-align: right;\">\n",
       "      <th></th>\n",
       "      <th>mjd</th>\n",
       "      <th>reduced_chi</th>\n",
       "      <th>rms</th>\n",
       "    </tr>\n",
       "  </thead>\n",
       "  <tbody>\n",
       "    <tr>\n",
       "      <th>0</th>\n",
       "      <td>57437.410402</td>\n",
       "      <td>0.923781</td>\n",
       "      <td>4.176064</td>\n",
       "    </tr>\n",
       "    <tr>\n",
       "      <th>1</th>\n",
       "      <td>57452.331763</td>\n",
       "      <td>0.977391</td>\n",
       "      <td>4.348330</td>\n",
       "    </tr>\n",
       "    <tr>\n",
       "      <th>2</th>\n",
       "      <td>57465.340566</td>\n",
       "      <td>1.060679</td>\n",
       "      <td>4.469494</td>\n",
       "    </tr>\n",
       "    <tr>\n",
       "      <th>3</th>\n",
       "      <td>57481.274135</td>\n",
       "      <td>0.992789</td>\n",
       "      <td>4.387837</td>\n",
       "    </tr>\n",
       "    <tr>\n",
       "      <th>4</th>\n",
       "      <td>57493.266548</td>\n",
       "      <td>0.991866</td>\n",
       "      <td>4.332153</td>\n",
       "    </tr>\n",
       "    <tr>\n",
       "      <th>5</th>\n",
       "      <td>57507.262882</td>\n",
       "      <td>0.963290</td>\n",
       "      <td>4.355529</td>\n",
       "    </tr>\n",
       "    <tr>\n",
       "      <th>6</th>\n",
       "      <td>57523.163161</td>\n",
       "      <td>0.984465</td>\n",
       "      <td>4.527107</td>\n",
       "    </tr>\n",
       "    <tr>\n",
       "      <th>7</th>\n",
       "      <td>57536.149055</td>\n",
       "      <td>0.970304</td>\n",
       "      <td>4.180596</td>\n",
       "    </tr>\n",
       "    <tr>\n",
       "      <th>8</th>\n",
       "      <td>57550.149682</td>\n",
       "      <td>1.048982</td>\n",
       "      <td>4.689044</td>\n",
       "    </tr>\n",
       "    <tr>\n",
       "      <th>9</th>\n",
       "      <td>57566.116430</td>\n",
       "      <td>0.924829</td>\n",
       "      <td>5.533440</td>\n",
       "    </tr>\n",
       "    <tr>\n",
       "      <th>10</th>\n",
       "      <td>57577.054506</td>\n",
       "      <td>0.781242</td>\n",
       "      <td>4.724942</td>\n",
       "    </tr>\n",
       "    <tr>\n",
       "      <th>11</th>\n",
       "      <td>57605.916421</td>\n",
       "      <td>1.028457</td>\n",
       "      <td>5.384419</td>\n",
       "    </tr>\n",
       "    <tr>\n",
       "      <th>12</th>\n",
       "      <td>57619.977463</td>\n",
       "      <td>0.943608</td>\n",
       "      <td>4.690508</td>\n",
       "    </tr>\n",
       "    <tr>\n",
       "      <th>13</th>\n",
       "      <td>57635.876179</td>\n",
       "      <td>1.098942</td>\n",
       "      <td>4.827016</td>\n",
       "    </tr>\n",
       "    <tr>\n",
       "      <th>14</th>\n",
       "      <td>57648.923727</td>\n",
       "      <td>0.895201</td>\n",
       "      <td>4.976502</td>\n",
       "    </tr>\n",
       "    <tr>\n",
       "      <th>15</th>\n",
       "      <td>57664.850095</td>\n",
       "      <td>0.977087</td>\n",
       "      <td>5.417355</td>\n",
       "    </tr>\n",
       "    <tr>\n",
       "      <th>16</th>\n",
       "      <td>57683.809456</td>\n",
       "      <td>0.991695</td>\n",
       "      <td>4.562111</td>\n",
       "    </tr>\n",
       "    <tr>\n",
       "      <th>17</th>\n",
       "      <td>57704.783268</td>\n",
       "      <td>0.938424</td>\n",
       "      <td>4.187978</td>\n",
       "    </tr>\n",
       "    <tr>\n",
       "      <th>18</th>\n",
       "      <td>57772.535848</td>\n",
       "      <td>0.887068</td>\n",
       "      <td>4.194556</td>\n",
       "    </tr>\n",
       "  </tbody>\n",
       "</table>\n",
       "</div>"
      ],
      "text/plain": [
       "             mjd  reduced_chi       rms\n",
       "0   57437.410402     0.923781  4.176064\n",
       "1   57452.331763     0.977391  4.348330\n",
       "2   57465.340566     1.060679  4.469494\n",
       "3   57481.274135     0.992789  4.387837\n",
       "4   57493.266548     0.991866  4.332153\n",
       "5   57507.262882     0.963290  4.355529\n",
       "6   57523.163161     0.984465  4.527107\n",
       "7   57536.149055     0.970304  4.180596\n",
       "8   57550.149682     1.048982  4.689044\n",
       "9   57566.116430     0.924829  5.533440\n",
       "10  57577.054506     0.781242  4.724942\n",
       "11  57605.916421     1.028457  5.384419\n",
       "12  57619.977463     0.943608  4.690508\n",
       "13  57635.876179     1.098942  4.827016\n",
       "14  57648.923727     0.895201  4.976502\n",
       "15  57664.850095     0.977087  5.417355\n",
       "16  57683.809456     0.991695  4.562111\n",
       "17  57704.783268     0.938424  4.187978\n",
       "18  57772.535848     0.887068  4.194556"
      ]
     },
     "execution_count": 72,
     "metadata": {},
     "output_type": "execute_result"
    }
   ],
   "source": [
    "stats"
   ]
  },
  {
   "cell_type": "code",
   "execution_count": 82,
   "metadata": {},
   "outputs": [
    {
     "data": {
      "text/plain": [
       "['1315/2M1315e13-LLRR.dat',\n",
       " '1315/2M1315e15-LLRR.dat',\n",
       " '1315/2M1315e18-LLRR.dat',\n",
       " '1315/2M1315e19-LLRR.dat',\n",
       " '1315/2M1315e7-LLRR.dat',\n",
       " '1315/2M1315e5-LLRR.dat',\n",
       " '1315/2M1315e2-LLRR.dat',\n",
       " '1315/2M1315e9-LLRR.dat',\n",
       " '1315/2M1315e8-LLRR.dat',\n",
       " '1315/2M1315e1-LLRR.dat',\n",
       " '1315/2M1315e14-LLRR.dat',\n",
       " '1315/2M1315e16-LLRR.dat',\n",
       " '1315/2M1315e11-LLRR.dat',\n",
       " '1315/2M1315e6-LLRR.dat',\n",
       " '1315/2M1315e12-LLRR.dat',\n",
       " '1315/2M1315e4-LLRR.dat',\n",
       " '1315/2M1315e10-LLRR.dat',\n",
       " '1315/2M1315e17-LLRR.dat',\n",
       " '1315/2M1315e3-LLRR.dat']"
      ]
     },
     "execution_count": 82,
     "metadata": {},
     "output_type": "execute_result"
    }
   ],
   "source": [
    "dt"
   ]
  },
  {
   "cell_type": "code",
   "execution_count": null,
   "metadata": {},
   "outputs": [],
   "source": []
  }
 ],
 "metadata": {
  "kernelspec": {
   "display_name": "Python 3",
   "language": "python",
   "name": "python3"
  },
  "language_info": {
   "codemirror_mode": {
    "name": "ipython",
    "version": 3
   },
   "file_extension": ".py",
   "mimetype": "text/x-python",
   "name": "python",
   "nbconvert_exporter": "python",
   "pygments_lexer": "ipython3",
   "version": "3.7.1"
  }
 },
 "nbformat": 4,
 "nbformat_minor": 2
}
