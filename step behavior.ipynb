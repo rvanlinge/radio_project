{
 "cells": [
  {
   "cell_type": "code",
   "execution_count": 46,
   "metadata": {},
   "outputs": [],
   "source": [
    "import numpy as np\n",
    "import pandas as pd\n",
    "from radioReduction import *\n",
    "import matplotlib.pyplot as plt\n",
    "from scipy.stats import norm\n",
    "import random\n",
    "%matplotlib tk"
   ]
  },
  {
   "cell_type": "code",
   "execution_count": 2,
   "metadata": {},
   "outputs": [],
   "source": [
    "dt = pd.read_table('1314/2M1314e15-LLRR.dat')"
   ]
  },
  {
   "cell_type": "code",
   "execution_count": 30,
   "metadata": {},
   "outputs": [],
   "source": [
    "binned = binning(dt,sec=10)\n",
    "binned.plot.scatter('secs','re',yerr='ure',color='black')\n",
    "plt.show()"
   ]
  },
  {
   "cell_type": "code",
   "execution_count": null,
   "metadata": {},
   "outputs": [],
   "source": []
  },
  {
   "cell_type": "code",
   "execution_count": 58,
   "metadata": {},
   "outputs": [],
   "source": [
    "def model(p,time):\n",
    "    '''\n",
    "    Linear model fitting to the data\n",
    "    '''\n",
    "    m = p[0]\n",
    "    b = p[1]\n",
    "    y = m*time+b\n",
    "    return y\n",
    "\n",
    "def chi2(p,data,time,error):\n",
    "    chi2 = np.sum((data-model(p,time))**2/error**2)\n",
    "    return chi2\n",
    "\n",
    "def mcmc(p_int,**kwargs):\n",
    "    '''\n",
    "    Does an mcmc walk using Metropolis on data, finding the best fit\n",
    "    parameters to a linear line\n",
    "    Assume parameters are Gaussian\n",
    "    '''\n",
    "    steps = kwargs.get('steps',1000)\n",
    "    step_size = kwargs.get('step_size',1)\n",
    "    data = kwargs.get('data')\n",
    "    time = kwargs.get('time')\n",
    "    error = kwargs.get('error')\n",
    "    \n",
    "    # Setting up list to hold the parameters\n",
    "    p = p_int\n",
    "    m = []\n",
    "    b = []\n",
    "    accept = []\n",
    "\n",
    "    # Burning in 10% of the steps\n",
    "    for i in range(int(.1*steps)):\n",
    "        p_prime = [norm(p[0],step_size).rvs(),norm(p[1],step_size).rvs()]\n",
    "        prob = chi2(p_prime,data,time,error)/chi2(p,data,time,error)\n",
    "\n",
    "        if prob > 1:\n",
    "            p = p_prime\n",
    "        else:\n",
    "            rand = random.uniform(0,1)\n",
    "            if rand <= prob:\n",
    "                p = p_prime\n",
    "            else:\n",
    "                p_prime = 0\n",
    "                \n",
    "    # Doing the actual MCMC\n",
    "    for i in range(steps):\n",
    "        p_prime = [norm(p[0],step_size).rvs(),norm(p[1],step_size).rvs()]\n",
    "        prob = chi2(p_prime,data,time,error)/chi2(p,data,time,error)\n",
    "\n",
    "        # If prob is more than 1, accept it \n",
    "        if prob > 1:\n",
    "            p = p_prime\n",
    "            m.append(p[0])\n",
    "            b.append(p[1])\n",
    "            accept.append(1)\n",
    "\n",
    "        # If it is less than 1, do a probability of acceptance\n",
    "        else:\n",
    "            rand = random.uniform(0,1)\n",
    "            if rand <= prob:\n",
    "                p = p_prime\n",
    "                m.append(p[0])\n",
    "                b.append(p[1])\n",
    "                accept.append(1)\n",
    "            else:\n",
    "                p_prime = 0\n",
    "                accept.append(0)\n",
    "\n",
    "    # Making things arrays\n",
    "    p_vals = np.array([m,b])\n",
    "    accept = np.array(accept)\n",
    "    \n",
    "    return p_vals,accept"
   ]
  },
  {
   "cell_type": "code",
   "execution_count": 77,
   "metadata": {},
   "outputs": [],
   "source": [
    "p_vals, accept = mcmc([2,1],steps=10**4,step_size=.02,data=binned['re'],time=binned['secs'],error=binned['ure'])"
   ]
  },
  {
   "cell_type": "code",
   "execution_count": 78,
   "metadata": {},
   "outputs": [],
   "source": [
    "m = p_vals[0];b=p_vals[1]\n",
    "\n",
    "h = plt.figure(1)\n",
    "plt.hist(m,color='black',bins=100,histtype='step')\n",
    "plt.hist(b,color='red',bins=100,histtype='step')\n",
    "h.show()\n",
    "\n",
    "h2 = plt.figure(2)\n",
    "plt.hist(accept,color='black')\n",
    "h2.show()"
   ]
  }
 ],
 "metadata": {
  "kernelspec": {
   "display_name": "Python 3",
   "language": "python",
   "name": "python3"
  },
  "language_info": {
   "codemirror_mode": {
    "name": "ipython",
    "version": 3
   },
   "file_extension": ".py",
   "mimetype": "text/x-python",
   "name": "python",
   "nbconvert_exporter": "python",
   "pygments_lexer": "ipython3",
   "version": "3.7.0"
  }
 },
 "nbformat": 4,
 "nbformat_minor": 2
}
