{
 "cells": [
  {
   "cell_type": "code",
   "execution_count": 1,
   "metadata": {},
   "outputs": [],
   "source": [
    "import numpy as np \n",
    "import pandas as pd\n",
    "import matplotlib.pyplot as plt\n",
    "import glob as glob\n",
    "from radioReduction import *"
   ]
  },
  {
   "cell_type": "code",
   "execution_count": 2,
   "metadata": {
    "collapsed": true
   },
   "outputs": [
    {
     "name": "stdout",
     "output_type": "stream",
     "text": [
      "              mjd      dtmin        re       ure        im       uim  \\\n",
      "0    57437.449719   0.000000  1.026266  0.087789  0.056793  0.088241   \n",
      "1    57437.449776   0.083333  1.091780  0.088459 -0.066938  0.088798   \n",
      "2    57437.449834   0.166667  1.019416  0.088340 -0.061190  0.088089   \n",
      "3    57437.449892   0.250000  0.978776  0.088002  0.046697  0.090002   \n",
      "4    57437.449950   0.333333  1.127134  0.087702 -0.243420  0.087756   \n",
      "5    57437.450008   0.416667  1.035988  0.087259 -0.071970  0.088558   \n",
      "6    57437.450066   0.500000  0.930118  0.088444  0.014819  0.087807   \n",
      "7    57437.450124   0.583333  0.947375  0.088541 -0.017864  0.087844   \n",
      "8    57437.450182   0.666667  1.035150  0.088315 -0.035383  0.089380   \n",
      "9    57437.450239   0.750000  1.060329  0.087247  0.006281  0.089120   \n",
      "10   57437.450297   0.833333  1.018444  0.088713 -0.033968  0.089244   \n",
      "11   57437.450355   0.916667  1.091686  0.087663  0.026163  0.088808   \n",
      "12   57437.450413   1.000000  0.976069  0.088500  0.004931  0.088037   \n",
      "13   57437.450471   1.083333  1.216239  0.087897  0.055233  0.087951   \n",
      "14   57437.450529   1.166667  1.074871  0.088264 -0.010874  0.088865   \n",
      "15   57437.450587   1.250000  1.102488  0.088761  0.039474  0.087681   \n",
      "16   57437.450644   1.333333  1.027148  0.087400 -0.056488  0.088555   \n",
      "17   57437.450702   1.416667  1.006706  0.087995 -0.009445  0.088954   \n",
      "18   57437.450760   1.500000  0.889647  0.088602 -0.159789  0.088058   \n",
      "19   57437.450818   1.583333  0.912426  0.087641 -0.207802  0.087783   \n",
      "20   57437.450876   1.666667  0.853574  0.088349 -0.118654  0.087687   \n",
      "21   57437.450934   1.750000  1.092986  0.088755  0.074560  0.089971   \n",
      "22   57437.450992   1.833333  1.059361  0.087281  0.129471  0.088056   \n",
      "23   57437.451050   1.916667  1.044506  0.087736  0.018160  0.089276   \n",
      "24   57437.451107   2.000000  1.004611  0.089333 -0.112775  0.089393   \n",
      "25   57437.451165   2.083333  0.964148  0.087953  0.042475  0.088453   \n",
      "26   57437.451223   2.166667  0.954261  0.088561 -0.018062  0.087899   \n",
      "27   57437.451281   2.250000  1.150320  0.087129  0.003668  0.088494   \n",
      "28   57437.451339   2.333333  1.065678  0.088508 -0.115616  0.087816   \n",
      "29   57437.451397   2.416667  1.063840  0.087954  0.003284  0.087644   \n",
      "..            ...        ...       ...       ...       ...       ...   \n",
      "161  57437.463665  20.083333  0.981126  0.091680  0.042671  0.093365   \n",
      "162  57437.463723  20.166667  1.177854  0.091102 -0.107901  0.091139   \n",
      "163  57437.463781  20.250000  1.179631  0.091856  0.101965  0.091380   \n",
      "164  57437.463839  20.333333  1.039404  0.092721 -0.280092  0.092349   \n",
      "165  57437.463897  20.416667  1.203475  0.091778 -0.017737  0.091884   \n",
      "166  57437.463955  20.500000  1.110196  0.092044  0.104331  0.091903   \n",
      "167  57437.464013  20.583333  1.057592  0.092751  0.054705  0.092210   \n",
      "168  57437.464070  20.666667  1.209485  0.092894  0.042800  0.092926   \n",
      "169  57437.464128  20.750000  1.207432  0.092131 -0.056591  0.092762   \n",
      "170  57437.464186  20.833333  1.257141  0.093250  0.006498  0.092541   \n",
      "171  57437.464244  20.916667  1.313306  0.092003  0.044650  0.091836   \n",
      "172  57437.464302  21.000000  1.277556  0.092785  0.058642  0.091072   \n",
      "173  57437.464360  21.083333  1.271482  0.091952 -0.004621  0.091862   \n",
      "174  57437.464418  21.166667  1.106226  0.091633 -0.198065  0.091049   \n",
      "175  57437.464476  21.250000  1.242589  0.090495  0.058586  0.092155   \n",
      "176  57437.464533  21.333333  1.010982  0.091352  0.117904  0.093074   \n",
      "177  57437.464591  21.416667  1.101017  0.092003  0.142125  0.091559   \n",
      "178  57437.464649  21.500000  1.360330  0.091835 -0.075484  0.092527   \n",
      "179  57437.464707  21.583333  1.178560  0.091513 -0.069175  0.092258   \n",
      "180  57437.464765  21.666667  1.008051  0.091270  0.114354  0.091532   \n",
      "181  57437.464823  21.750000  1.157390  0.091290 -0.128402  0.092282   \n",
      "182  57437.464881  21.833333  1.136456  0.091863  0.004287  0.092219   \n",
      "183  57437.464938  21.916667  1.163735  0.092175  0.074868  0.092070   \n",
      "184  57437.464996  22.000000  1.219801  0.091552 -0.131320  0.091015   \n",
      "185  57437.465054  22.083333  1.162217  0.092404 -0.021301  0.091424   \n",
      "186  57437.465112  22.166667  0.863459  0.092100 -0.178969  0.091957   \n",
      "187  57437.465170  22.250000  1.068910  0.091718 -0.074090  0.091459   \n",
      "188  57437.465228  22.333333  1.153030  0.092090  0.044188  0.092625   \n",
      "189  57437.465286  22.416667  1.079446  0.091935 -0.003012  0.092091   \n",
      "190  57437.465344  22.500000  1.113254  0.091060  0.093200  0.091562   \n",
      "\n",
      "          abs      uabs  nsamp  \n",
      "0    1.027836  0.087790  10816  \n",
      "1    1.093830  0.088461  10816  \n",
      "2    1.021251  0.088339  10816  \n",
      "3    0.979889  0.088006  10816  \n",
      "4    1.153120  0.087704  10816  \n",
      "5    1.038485  0.087265  10816  \n",
      "6    0.930236  0.088444  10816  \n",
      "7    0.947544  0.088540  10816  \n",
      "8    1.035754  0.088316  10816  \n",
      "9    1.060348  0.087247  10816  \n",
      "10   1.019011  0.088714  10816  \n",
      "11   1.091999  0.087664  10816  \n",
      "12   0.976082  0.088500  10816  \n",
      "13   1.217493  0.087897  10816  \n",
      "14   1.074926  0.088264  10816  \n",
      "15   1.103195  0.088760  10816  \n",
      "16   1.028700  0.087404  10816  \n",
      "17   1.006750  0.087995  10816  \n",
      "18   0.903883  0.088585  10816  \n",
      "19   0.935790  0.087648  10816  \n",
      "20   0.861782  0.088336  10816  \n",
      "21   1.095526  0.088761  10816  \n",
      "22   1.067243  0.087292  10816  \n",
      "23   1.044664  0.087737  10816  \n",
      "24   1.010921  0.089334  10816  \n",
      "25   0.965083  0.087954  10816  \n",
      "26   0.954432  0.088561  10816  \n",
      "27   1.150326  0.087129  10816  \n",
      "28   1.071932  0.088500  10816  \n",
      "29   1.063845  0.087954  10816  \n",
      "..        ...       ...    ...  \n",
      "161  0.982053  0.091683  10000  \n",
      "162  1.182786  0.091103  10000  \n",
      "163  1.184030  0.091853  10000  \n",
      "164  1.076481  0.092696  10000  \n",
      "165  1.203606  0.091778  10000  \n",
      "166  1.115088  0.092042  10000  \n",
      "167  1.059006  0.092750  10000  \n",
      "168  1.210242  0.092894  10000  \n",
      "169  1.208758  0.092132  10000  \n",
      "170  1.257158  0.093250  10000  \n",
      "171  1.314065  0.092002  10000  \n",
      "172  1.278901  0.092782  10000  \n",
      "173  1.271490  0.091952  10000  \n",
      "174  1.123817  0.091615  10000  \n",
      "175  1.243969  0.090499  10000  \n",
      "176  1.017834  0.091375  10000  \n",
      "177  1.110152  0.091996  10000  \n",
      "178  1.362423  0.091837  10000  \n",
      "179  1.180588  0.091515  10000  \n",
      "180  1.014517  0.091273  10000  \n",
      "181  1.164490  0.091302  10000  \n",
      "182  1.136464  0.091863  10000  \n",
      "183  1.166141  0.092174  10000  \n",
      "184  1.226849  0.091546  10000  \n",
      "185  1.162412  0.092404  10000  \n",
      "186  0.881811  0.092094  10000  \n",
      "187  1.071475  0.091717  10000  \n",
      "188  1.153876  0.092091  10000  \n",
      "189  1.079450  0.091935  10000  \n",
      "190  1.117149  0.091063  10000  \n",
      "\n",
      "[190 rows x 9 columns]\n",
      "4.0\n"
     ]
    },
    {
     "data": {
      "text/plain": [
       "0      0.007707\n",
       "1      0.007825\n",
       "2      0.007804\n",
       "3      0.007744\n",
       "4      0.007692\n",
       "5      0.007614\n",
       "6      0.007822\n",
       "7      0.007839\n",
       "8      0.007799\n",
       "9      0.007612\n",
       "10     0.007870\n",
       "11     0.007685\n",
       "12     0.007832\n",
       "13     0.007726\n",
       "14     0.007791\n",
       "15     0.007879\n",
       "16     0.007639\n",
       "17     0.007743\n",
       "18     0.007850\n",
       "19     0.007681\n",
       "20     0.007805\n",
       "21     0.007878\n",
       "22     0.007618\n",
       "23     0.007698\n",
       "24     0.007980\n",
       "25     0.007736\n",
       "26     0.007843\n",
       "27     0.007591\n",
       "28     0.007834\n",
       "29     0.007736\n",
       "         ...   \n",
       "161    0.008405\n",
       "162    0.008300\n",
       "163    0.008438\n",
       "164    0.008597\n",
       "165    0.008423\n",
       "166    0.008472\n",
       "167    0.008603\n",
       "168    0.008629\n",
       "169    0.008488\n",
       "170    0.008696\n",
       "171    0.008464\n",
       "172    0.008609\n",
       "173    0.008455\n",
       "174    0.008397\n",
       "175    0.008189\n",
       "176    0.008345\n",
       "177    0.008465\n",
       "178    0.008434\n",
       "179    0.008375\n",
       "180    0.008330\n",
       "181    0.008334\n",
       "182    0.008439\n",
       "183    0.008496\n",
       "184    0.008382\n",
       "185    0.008538\n",
       "186    0.008482\n",
       "187    0.008412\n",
       "188    0.008481\n",
       "189    0.008452\n",
       "190    0.008292\n",
       "Name: ure, Length: 190, dtype: float64"
      ]
     },
     "execution_count": 2,
     "metadata": {},
     "output_type": "execute_result"
    }
   ],
   "source": [
    "dt = pd.read_table('1314/dataTables/2M1314e2-LLRR.dat')\n",
    "\n",
    "dt = dt[dt['nsamp']>2000]\n",
    "print(dt)\n",
    "\n",
    "\n",
    "bins = 20/5\n",
    "print(bins)\n",
    "\n",
    "dt['secs'] = dt['dtmin']*60\n",
    "\n",
    "error = dt['ure']**2\n",
    "error"
   ]
  },
  {
   "cell_type": "code",
   "execution_count": null,
   "metadata": {},
   "outputs": [],
   "source": [
    "\n",
    "\n",
    "for i in range(len(error)):\n",
    "    j = 1\n",
    "    while j < bins:\n",
    "        x = error[i]\n",
    "        x = x + error[i+j]"
   ]
  },
  {
   "cell_type": "code",
   "execution_count": 24,
   "metadata": {},
   "outputs": [
    {
     "name": "stdout",
     "output_type": "stream",
     "text": [
      "              mjd      dtmin        re       ure        im       uim  \\\n",
      "0    57437.449719   0.000000  1.026266  0.087789  0.056793  0.088241   \n",
      "1    57437.449776   0.083333  1.091780  0.088459 -0.066938  0.088798   \n",
      "2    57437.449834   0.166667  1.019416  0.088340 -0.061190  0.088089   \n",
      "3    57437.449892   0.250000  0.978776  0.088002  0.046697  0.090002   \n",
      "4    57437.449950   0.333333  1.127134  0.087702 -0.243420  0.087756   \n",
      "5    57437.450008   0.416667  1.035988  0.087259 -0.071970  0.088558   \n",
      "6    57437.450066   0.500000  0.930118  0.088444  0.014819  0.087807   \n",
      "7    57437.450124   0.583333  0.947375  0.088541 -0.017864  0.087844   \n",
      "8    57437.450182   0.666667  1.035150  0.088315 -0.035383  0.089380   \n",
      "9    57437.450239   0.750000  1.060329  0.087247  0.006281  0.089120   \n",
      "10   57437.450297   0.833333  1.018444  0.088713 -0.033968  0.089244   \n",
      "11   57437.450355   0.916667  1.091686  0.087663  0.026163  0.088808   \n",
      "12   57437.450413   1.000000  0.976069  0.088500  0.004931  0.088037   \n",
      "13   57437.450471   1.083333  1.216239  0.087897  0.055233  0.087951   \n",
      "14   57437.450529   1.166667  1.074871  0.088264 -0.010874  0.088865   \n",
      "15   57437.450587   1.250000  1.102488  0.088761  0.039474  0.087681   \n",
      "16   57437.450644   1.333333  1.027148  0.087400 -0.056488  0.088555   \n",
      "17   57437.450702   1.416667  1.006706  0.087995 -0.009445  0.088954   \n",
      "18   57437.450760   1.500000  0.889647  0.088602 -0.159789  0.088058   \n",
      "19   57437.450818   1.583333  0.912426  0.087641 -0.207802  0.087783   \n",
      "20   57437.450876   1.666667  0.853574  0.088349 -0.118654  0.087687   \n",
      "21   57437.450934   1.750000  1.092986  0.088755  0.074560  0.089971   \n",
      "22   57437.450992   1.833333  1.059361  0.087281  0.129471  0.088056   \n",
      "23   57437.451050   1.916667  1.044506  0.087736  0.018160  0.089276   \n",
      "24   57437.451107   2.000000  1.004611  0.089333 -0.112775  0.089393   \n",
      "25   57437.451165   2.083333  0.964148  0.087953  0.042475  0.088453   \n",
      "26   57437.451223   2.166667  0.954261  0.088561 -0.018062  0.087899   \n",
      "27   57437.451281   2.250000  1.150320  0.087129  0.003668  0.088494   \n",
      "28   57437.451339   2.333333  1.065678  0.088508 -0.115616  0.087816   \n",
      "29   57437.451397   2.416667  1.063840  0.087954  0.003284  0.087644   \n",
      "..            ...        ...       ...       ...       ...       ...   \n",
      "161  57437.463665  20.083333  0.981126  0.091680  0.042671  0.093365   \n",
      "162  57437.463723  20.166667  1.177854  0.091102 -0.107901  0.091139   \n",
      "163  57437.463781  20.250000  1.179631  0.091856  0.101965  0.091380   \n",
      "164  57437.463839  20.333333  1.039404  0.092721 -0.280092  0.092349   \n",
      "165  57437.463897  20.416667  1.203475  0.091778 -0.017737  0.091884   \n",
      "166  57437.463955  20.500000  1.110196  0.092044  0.104331  0.091903   \n",
      "167  57437.464013  20.583333  1.057592  0.092751  0.054705  0.092210   \n",
      "168  57437.464070  20.666667  1.209485  0.092894  0.042800  0.092926   \n",
      "169  57437.464128  20.750000  1.207432  0.092131 -0.056591  0.092762   \n",
      "170  57437.464186  20.833333  1.257141  0.093250  0.006498  0.092541   \n",
      "171  57437.464244  20.916667  1.313306  0.092003  0.044650  0.091836   \n",
      "172  57437.464302  21.000000  1.277556  0.092785  0.058642  0.091072   \n",
      "173  57437.464360  21.083333  1.271482  0.091952 -0.004621  0.091862   \n",
      "174  57437.464418  21.166667  1.106226  0.091633 -0.198065  0.091049   \n",
      "175  57437.464476  21.250000  1.242589  0.090495  0.058586  0.092155   \n",
      "176  57437.464533  21.333333  1.010982  0.091352  0.117904  0.093074   \n",
      "177  57437.464591  21.416667  1.101017  0.092003  0.142125  0.091559   \n",
      "178  57437.464649  21.500000  1.360330  0.091835 -0.075484  0.092527   \n",
      "179  57437.464707  21.583333  1.178560  0.091513 -0.069175  0.092258   \n",
      "180  57437.464765  21.666667  1.008051  0.091270  0.114354  0.091532   \n",
      "181  57437.464823  21.750000  1.157390  0.091290 -0.128402  0.092282   \n",
      "182  57437.464881  21.833333  1.136456  0.091863  0.004287  0.092219   \n",
      "183  57437.464938  21.916667  1.163735  0.092175  0.074868  0.092070   \n",
      "184  57437.464996  22.000000  1.219801  0.091552 -0.131320  0.091015   \n",
      "185  57437.465054  22.083333  1.162217  0.092404 -0.021301  0.091424   \n",
      "186  57437.465112  22.166667  0.863459  0.092100 -0.178969  0.091957   \n",
      "187  57437.465170  22.250000  1.068910  0.091718 -0.074090  0.091459   \n",
      "188  57437.465228  22.333333  1.153030  0.092090  0.044188  0.092625   \n",
      "189  57437.465286  22.416667  1.079446  0.091935 -0.003012  0.092091   \n",
      "190  57437.465344  22.500000  1.113254  0.091060  0.093200  0.091562   \n",
      "\n",
      "          abs      uabs  nsamp  \n",
      "0    1.027836  0.087790  10816  \n",
      "1    1.093830  0.088461  10816  \n",
      "2    1.021251  0.088339  10816  \n",
      "3    0.979889  0.088006  10816  \n",
      "4    1.153120  0.087704  10816  \n",
      "5    1.038485  0.087265  10816  \n",
      "6    0.930236  0.088444  10816  \n",
      "7    0.947544  0.088540  10816  \n",
      "8    1.035754  0.088316  10816  \n",
      "9    1.060348  0.087247  10816  \n",
      "10   1.019011  0.088714  10816  \n",
      "11   1.091999  0.087664  10816  \n",
      "12   0.976082  0.088500  10816  \n",
      "13   1.217493  0.087897  10816  \n",
      "14   1.074926  0.088264  10816  \n",
      "15   1.103195  0.088760  10816  \n",
      "16   1.028700  0.087404  10816  \n",
      "17   1.006750  0.087995  10816  \n",
      "18   0.903883  0.088585  10816  \n",
      "19   0.935790  0.087648  10816  \n",
      "20   0.861782  0.088336  10816  \n",
      "21   1.095526  0.088761  10816  \n",
      "22   1.067243  0.087292  10816  \n",
      "23   1.044664  0.087737  10816  \n",
      "24   1.010921  0.089334  10816  \n",
      "25   0.965083  0.087954  10816  \n",
      "26   0.954432  0.088561  10816  \n",
      "27   1.150326  0.087129  10816  \n",
      "28   1.071932  0.088500  10816  \n",
      "29   1.063845  0.087954  10816  \n",
      "..        ...       ...    ...  \n",
      "161  0.982053  0.091683  10000  \n",
      "162  1.182786  0.091103  10000  \n",
      "163  1.184030  0.091853  10000  \n",
      "164  1.076481  0.092696  10000  \n",
      "165  1.203606  0.091778  10000  \n",
      "166  1.115088  0.092042  10000  \n",
      "167  1.059006  0.092750  10000  \n",
      "168  1.210242  0.092894  10000  \n",
      "169  1.208758  0.092132  10000  \n",
      "170  1.257158  0.093250  10000  \n",
      "171  1.314065  0.092002  10000  \n",
      "172  1.278901  0.092782  10000  \n",
      "173  1.271490  0.091952  10000  \n",
      "174  1.123817  0.091615  10000  \n",
      "175  1.243969  0.090499  10000  \n",
      "176  1.017834  0.091375  10000  \n",
      "177  1.110152  0.091996  10000  \n",
      "178  1.362423  0.091837  10000  \n",
      "179  1.180588  0.091515  10000  \n",
      "180  1.014517  0.091273  10000  \n",
      "181  1.164490  0.091302  10000  \n",
      "182  1.136464  0.091863  10000  \n",
      "183  1.166141  0.092174  10000  \n",
      "184  1.226849  0.091546  10000  \n",
      "185  1.162412  0.092404  10000  \n",
      "186  0.881811  0.092094  10000  \n",
      "187  1.071475  0.091717  10000  \n",
      "188  1.153876  0.092091  10000  \n",
      "189  1.079450  0.091935  10000  \n",
      "190  1.117149  0.091063  10000  \n",
      "\n",
      "[190 rows x 9 columns]\n",
      "4.0\n"
     ]
    }
   ],
   "source": [
    "dt = pd.read_table('1314/dataTables/2M1314e2-LLRR.dat')\n",
    "\n",
    "dt = dt[dt['nsamp']>2000]\n",
    "print(dt)\n",
    "\n",
    "bins = 20/5\n",
    "print(bins)\n",
    "\n",
    "binned = dt.groupby(np.arange(len(dt))//bins).mean()\n",
    "binned['re']\n",
    "\n",
    "error = np.array(dt['ure'])\n"
   ]
  },
  {
   "cell_type": "code",
   "execution_count": 21,
   "metadata": {},
   "outputs": [
    {
     "data": {
      "text/plain": [
       "47.5"
      ]
     },
     "execution_count": 21,
     "metadata": {},
     "output_type": "execute_result"
    }
   ],
   "source": [
    "190/4"
   ]
  },
  {
   "cell_type": "code",
   "execution_count": 25,
   "metadata": {
    "collapsed": true
   },
   "outputs": [
    {
     "data": {
      "text/plain": [
       "[array([0.08778904, 0.08845949, 0.08833963, 0.0880015 , 0.08770208]),\n",
       " array([0.08725899, 0.08844449, 0.0885407 , 0.08831472, 0.08724737]),\n",
       " array([0.08871316, 0.08766316, 0.0884997 , 0.08789703]),\n",
       " array([0.08826437, 0.08876097, 0.08740006, 0.0879951 ]),\n",
       " array([0.08860238, 0.08764083, 0.0883486 , 0.08875548]),\n",
       " array([0.08728088, 0.08773633, 0.08933321, 0.08795257]),\n",
       " array([0.08856098, 0.08712919, 0.08850824, 0.08795408]),\n",
       " array([0.08683594, 0.08902961, 0.08758849, 0.08867694]),\n",
       " array([0.08829955, 0.08752923, 0.08729017, 0.08842161]),\n",
       " array([0.08877936, 0.08956702, 0.08882061, 0.08752795]),\n",
       " array([0.08781925, 0.0878956 , 0.08866088, 0.08760232]),\n",
       " array([0.08832651, 0.08833906, 0.08749631, 0.08854998]),\n",
       " array([0.08743571, 0.08834182, 0.08833015, 0.08816098]),\n",
       " array([0.08772651, 0.08836709, 0.08745144, 0.08861497]),\n",
       " array([0.08902725, 0.08860085, 0.08820314, 0.08844972]),\n",
       " array([0.1081243 , 0.08726454, 0.08933225, 0.08850154]),\n",
       " array([0.08723289, 0.08648804, 0.08784256, 0.08896989]),\n",
       " array([0.08766699, 0.0887152 , 0.08764618, 0.08692217]),\n",
       " array([0.08714632, 0.08826632, 0.08866692, 0.08771928]),\n",
       " array([0.08785095, 0.0889533 , 0.08852811, 0.08733631]),\n",
       " array([0.08804525, 0.08888519, 0.08825274, 0.08801691]),\n",
       " array([0.08716192, 0.08855941, 0.08762275, 0.08797664]),\n",
       " array([0.0882472 , 0.08745925, 0.08835663, 0.0887882 ]),\n",
       " array([0.08787425, 0.08703933, 0.08793665, 0.08861537]),\n",
       " array([0.08874453, 0.08842911, 0.0879509 , 0.08765952]),\n",
       " array([0.08747171, 0.08805377, 0.08714271, 0.08892514]),\n",
       " array([0.0882104 , 0.08730023, 0.08782168, 0.08833086]),\n",
       " array([0.08713699, 0.08780003, 0.08780356, 0.08841104]),\n",
       " array([0.08772224, 0.08778493, 0.08813838, 0.08755117]),\n",
       " array([0.08781666, 0.08760069, 0.08829589, 0.08768932]),\n",
       " array([0.08800518, 0.08860836, 0.08593029, 0.08737114]),\n",
       " array([0.09078481, 0.09221914, 0.09278394, 0.09291444]),\n",
       " array([0.09271914, 0.09237261, 0.09197361, 0.091038  ]),\n",
       " array([0.09233775, 0.09184585, 0.09237055, 0.09268663]),\n",
       " array([0.09298399, 0.09198814, 0.09142115, 0.09235084]),\n",
       " array([0.09316435, 0.09138867, 0.09343994, 0.09145451]),\n",
       " array([0.09300233, 0.09236742, 0.09220569, 0.09195713]),\n",
       " array([0.09241012, 0.09176801, 0.09226393, 0.09163809]),\n",
       " array([0.09126649, 0.09281442, 0.09249603, 0.0910027 ]),\n",
       " array([0.09201086, 0.09283915, 0.09167969, 0.09110226]),\n",
       " array([0.09185617, 0.09272098, 0.09177763, 0.09204368]),\n",
       " array([0.09275096, 0.09289362, 0.09213103, 0.09324983]),\n",
       " array([0.09200258, 0.09278543, 0.09195225, 0.09163303]),\n",
       " array([0.09049495, 0.09135194, 0.09200329, 0.09183458]),\n",
       " array([0.09151292, 0.09126956, 0.09128967, 0.0918625 ]),\n",
       " array([0.09217486, 0.0915517 , 0.0924039 , 0.09210034]),\n",
       " array([0.09171776, 0.09209027, 0.09193476, 0.0910595 ])]"
      ]
     },
     "execution_count": 25,
     "metadata": {},
     "output_type": "execute_result"
    }
   ],
   "source": [
    "split = np.array_split(error,47.5)\n",
    "split"
   ]
  },
  {
   "cell_type": "code",
   "execution_count": 18,
   "metadata": {},
   "outputs": [
    {
     "data": {
      "text/plain": [
       "0.03938021670868097"
      ]
     },
     "execution_count": 18,
     "metadata": {},
     "output_type": "execute_result"
    }
   ],
   "source": [
    "x = split[0]\n",
    "err = 1/np.sqrt(np.sum(1/x**2))\n",
    "err"
   ]
  },
  {
   "cell_type": "code",
   "execution_count": 19,
   "metadata": {
    "scrolled": true
   },
   "outputs": [
    {
     "data": {
      "text/plain": [
       "[0.03938021670868097,\n",
       " 0.03933487215903454,\n",
       " 0.044095072723545986,\n",
       " 0.04405050681469172,\n",
       " 0.044166852767216734,\n",
       " 0.04403293125308926,\n",
       " 0.0440162164551577,\n",
       " 0.04400988444264899,\n",
       " 0.043940562740202346,\n",
       " 0.04433231012441205,\n",
       " 0.04399590315043395,\n",
       " 0.04408758931305295,\n",
       " 0.04403240046352485,\n",
       " 0.04401812225611371,\n",
       " 0.0442843623534519,\n",
       " 0.04613455876687349,\n",
       " 0.04380963337595778,\n",
       " 0.04386533817021561,\n",
       " 0.04397205179179922,\n",
       " 0.044080308875754794,\n",
       " 0.04414897711494311,\n",
       " 0.043912866576408166,\n",
       " 0.04410444568378762,\n",
       " 0.04393052890858147,\n",
       " 0.04409651287888937,\n",
       " 0.04394527738008022,\n",
       " 0.04395651092006939,\n",
       " 0.043892214893235366,\n",
       " 0.04389920095850927,\n",
       " 0.04392470783893455,\n",
       " 0.04373080755697782,\n",
       " 0.04608192732212018,\n",
       " 0.04600968373163842,\n",
       " 0.04615436233966649,\n",
       " 0.04609039802723966,\n",
       " 0.04617367608907706,\n",
       " 0.046190364651176055,\n",
       " 0.04600916054071827,\n",
       " 0.04594256262652259,\n",
       " 0.04595078178928088,\n",
       " 0.04604868968688381,\n",
       " 0.046376854624201116,\n",
       " 0.04604520383814779,\n",
       " 0.04570776347368508,\n",
       " 0.04574136473947957,\n",
       " 0.04602804987573941,\n",
       " 0.04584901613851014]"
      ]
     },
     "execution_count": 19,
     "metadata": {},
     "output_type": "execute_result"
    }
   ],
   "source": [
    "error = []\n",
    "\n",
    "for i in range(len(split)):\n",
    "    x = split[i]\n",
    "    error.append(1/np.sqrt(np.sum(1/x**2)))\n",
    "\n",
    "error"
   ]
  },
  {
   "cell_type": "code",
   "execution_count": 2,
   "metadata": {},
   "outputs": [],
   "source": [
    "dt = pd.read_table('1314/dataTables/2M1314e2-LLRR.dat')\n"
   ]
  },
  {
   "cell_type": "code",
   "execution_count": 18,
   "metadata": {},
   "outputs": [],
   "source": [
    "binned = binning(dt,360)"
   ]
  },
  {
   "cell_type": "code",
   "execution_count": 19,
   "metadata": {},
   "outputs": [
    {
     "data": {
      "image/png": "[encoded data removed]",
      "text/plain": [
       "<Figure size 792x360 with 1 Axes>"
      ]
     },
     "metadata": {
      "needs_background": "light"
     },
     "output_type": "display_data"
    }
   ],
   "source": [
    "plt.figure(figsize=(11,5))\n",
    "plt.errorbar(binned['dtmin'],binned['re'],yerr=binned['ure'],color='k',linestyle='none',fmt='o')\n",
    "plt.minorticks_on()\n",
    "plt.ylim(0.6,2.2)\n",
    "plt.show()"
   ]
  },
  {
   "cell_type": "code",
   "execution_count": 20,
   "metadata": {},
   "outputs": [
    {
     "data": {
      "text/plain": [
       "0    0.009054\n",
       "1    0.009296\n",
       "Name: ure, dtype: float64"
      ]
     },
     "execution_count": 20,
     "metadata": {},
     "output_type": "execute_result"
    }
   ],
   "source": [
    "binned['ure']"
   ]
  },
  {
   "cell_type": "code",
   "execution_count": null,
   "metadata": {},
   "outputs": [],
   "source": []
  },
  {
   "cell_type": "code",
   "execution_count": null,
   "metadata": {},
   "outputs": [],
   "source": []
  },
  {
   "cell_type": "code",
   "execution_count": 23,
   "metadata": {},
   "outputs": [],
   "source": [
    "mins = dt['dtmin']"
   ]
  },
  {
   "cell_type": "code",
   "execution_count": 24,
   "metadata": {},
   "outputs": [],
   "source": [
    "minsSplit = np.array_split(mins,len(dt)/20)"
   ]
  },
  {
   "cell_type": "code",
   "execution_count": 28,
   "metadata": {},
   "outputs": [],
   "source": [
    "avgMin = []\n",
    "for i in range(len(minsSplit)):\n",
    "    avgMin.append(np.mean(minsSplit[i]))\n",
    "    "
   ]
  },
  {
   "cell_type": "code",
   "execution_count": 29,
   "metadata": {},
   "outputs": [
    {
     "data": {
      "text/plain": [
       "[0.8750000040427867,\n",
       " 3.4962121250679377,\n",
       " 5.960317462616201,\n",
       " 8.9166666685404,\n",
       " 11.42857143189758,\n",
       " 13.813492068023022,\n",
       " 16.83333333731363,\n",
       " 19.28174603331302,\n",
       " 21.666666668440616]"
      ]
     },
     "execution_count": 29,
     "metadata": {},
     "output_type": "execute_result"
    }
   ],
   "source": [
    "avgMin"
   ]
  },
  {
   "cell_type": "code",
   "execution_count": null,
   "metadata": {},
   "outputs": [],
   "source": []
  }
 ],
 "metadata": {
  "kernelspec": {
   "display_name": "Python 3",
   "language": "python",
   "name": "python3"
  },
  "language_info": {
   "codemirror_mode": {
    "name": "ipython",
    "version": 3
   },
   "file_extension": ".py",
   "mimetype": "text/x-python",
   "name": "python",
   "nbconvert_exporter": "python",
   "pygments_lexer": "ipython3",
   "version": "3.7.1"
  }
 },
 "nbformat": 4,
 "nbformat_minor": 2
}
