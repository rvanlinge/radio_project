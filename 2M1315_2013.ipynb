{
 "cells": [
  {
   "cell_type": "code",
   "execution_count": 1,
   "metadata": {},
   "outputs": [],
   "source": [
    "import numpy as np\n",
    "import pandas as pd\n",
    "from radioReduction import *\n",
    "import matplotlib.pyplot as plt\n",
    "from scipy.stats import norm\n",
    "import scipy.optimize as op\n",
    "import random\n",
    "import emcee\n",
    "import corner\n"
   ]
  },
  {
   "cell_type": "code",
   "execution_count": 4,
   "metadata": {},
   "outputs": [],
   "source": [
    "dt = pd.read_table('1315/2013_Obs/lightcurve/2M1315_2014-LLRR.dat')\n",
    "ll = pd.read_table('1315/2013_Obs/lightcurve/2M1315_2014-LL.dat')\n",
    "rr = pd.read_table('1315/2013_Obs/lightcurve/2M1315_2014-RR.dat')\n",
    "\n",
    "# LOW = pd.read_table('1315/2014_Obs/lightcurve/2M1315_2014-5GHz.dat')\n",
    "# HIGH = pd.read_table('1315/2014_Obs/lightcurve/2M1315_2014-7GHz.dat')\n",
    "\n"
   ]
  },
  {
   "cell_type": "code",
   "execution_count": 5,
   "metadata": {},
   "outputs": [
    {
     "name": "stderr",
     "output_type": "stream",
     "text": [
      "/home/russell/projects/radio_project/radioReduction.py:21: SettingWithCopyWarning: \n",
      "A value is trying to be set on a copy of a slice from a DataFrame.\n",
      "Try using .loc[row_indexer,col_indexer] = value instead\n",
      "\n",
      "See the caveats in the documentation: http://pandas.pydata.org/pandas-docs/stable/indexing.html#indexing-view-versus-copy\n",
      "  data['secs'] = data['dtmin']*60\n"
     ]
    }
   ],
   "source": [
    "bins = 120\n",
    "binned = binning(dt,bins)\n",
    "LL = binning(ll,bins)\n",
    "RR = binning(rr,bins)\n",
    "# low = binned(LOW,bins)\n",
    "# high = binned(HIGH,bins)\n",
    "\n",
    "stV = (RR['re']-LL['re'])*0.5\n",
    "stErr = np.sqrt(RR['ure']**2+LL['ure']**2)*.5\n"
   ]
  },
  {
   "cell_type": "code",
   "execution_count": 6,
   "metadata": {},
   "outputs": [
    {
     "data": {
      "image/png": "[encoded data removed]",
      "text/plain": [
       "<Figure size 792x504 with 1 Axes>"
      ]
     },
     "metadata": {
      "needs_background": "light"
     },
     "output_type": "display_data"
    }
   ],
   "source": [
    "plt.figure(figsize=(11,7))\n",
    "plt.errorbar(binned['dtmin'],binned['re'],yerr=binned['ure'],color='k',linestyle='None',fmt='o',label='Stokes I')\n",
    "# plt.errorbar(RR['dtmin'],stV,yerr=stErr,color='k',marker='o',markerfacecolor='None',linestyle='none',label='Stokes V')\n",
    "# plt.axhline(y=0,color='k',linestyle='dashed')\n",
    "# plt.legend(loc='best')\n",
    "plt.xlabel('Time (minutes)')\n",
    "plt.ylabel('Average Flux Density ($\\mu Jy$)')\n",
    "plt.ylim(np.min(binned['re'])-50,np.max(binned['re'])+50)\n",
    "plt.minorticks_on()\n",
    "plt.savefig('plots/2014_Obs_%ssec.png'%bins)\n",
    "plt.show()\n",
    "\n",
    "# plt.figure(figsize=(11,7))\n",
    "# plt.errorbar(low['dtmin'],low['re'],yerr=low['ure'],color='darkgreen',fmt='o',linestyle='None',label='5 GHz')\n",
    "# plt.errorbar(high['dtmin'],high['re'],yerr=high['ure'],color='darkorange',fmt='o',linestyle='None',label='7 GHz')\n",
    "# plt.legend(loc='best')\n",
    "# plt.xlabel('Time (minutes)')\n",
    "# plt.ylabel('Average Flux Density ($\\mu Jy$)')\n",
    "# plt.minorticks_on()\n",
    "# plt.show()\n"
   ]
  },
  {
   "cell_type": "code",
   "execution_count": 11,
   "metadata": {},
   "outputs": [],
   "source": [
    "mean = np.average(binned['re'])\n",
    "meanErr = 1/np.sqrt(np.sum(1/binned['ure']**2))"
   ]
  },
  {
   "cell_type": "code",
   "execution_count": 18,
   "metadata": {},
   "outputs": [
    {
     "data": {
      "text/plain": [
       "214.81974362855078"
      ]
     },
     "execution_count": 18,
     "metadata": {},
     "output_type": "execute_result"
    }
   ],
   "source": [
    "binned['re'].max()"
   ]
  },
  {
   "cell_type": "code",
   "execution_count": 17,
   "metadata": {},
   "outputs": [
    {
     "name": "stdout",
     "output_type": "stream",
     "text": [
      "2.0645730428283158\n"
     ]
    }
   ],
   "source": [
    "ReducedChi2 = np.sum(np.square((binned['re']-binned['re'].mean())/binned['ure']))/(binned['re'].shape[0]-1)\n",
    "print(ReducedChi2)"
   ]
  }
 ],
 "metadata": {
  "kernelspec": {
   "display_name": "Python 3",
   "language": "python",
   "name": "python3"
  },
  "language_info": {
   "codemirror_mode": {
    "name": "ipython",
    "version": 3
   },
   "file_extension": ".py",
   "mimetype": "text/x-python",
   "name": "python",
   "nbconvert_exporter": "python",
   "pygments_lexer": "ipython3",
   "version": "3.7.3"
  }
 },
 "nbformat": 4,
 "nbformat_minor": 2
}
