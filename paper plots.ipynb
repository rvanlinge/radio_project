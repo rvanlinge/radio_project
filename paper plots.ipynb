{
 "cells": [
  {
   "cell_type": "code",
   "execution_count": 1,
   "metadata": {},
   "outputs": [],
   "source": [
    "import numpy as np\n",
    "import pandas as pd\n",
    "from radioReduction import *\n",
    "import matplotlib.pyplot as plt\n",
    "from scipy.stats import norm\n",
    "import scipy.optimize as op\n",
    "import random\n",
    "import emcee\n",
    "import corner\n"
   ]
  },
  {
   "cell_type": "code",
   "execution_count": null,
   "metadata": {},
   "outputs": [],
   "source": [
    "rr15 = pd.read_table('1314/2M1314e15-RR.dat')\n",
    "ll15 = pd.read_table('1314/2M1314e15-LL.dat')\n",
    "\n",
    "rr15 = binning(rr,10)\n",
    "ll15 = binning(ll,10)\n",
    "\n",
    "rr19 = pd.read_table('1314/2M1314e19-RR.dat')\n",
    "ll19 = pd.read_table('1314/2M1314e19-LL.dat')\n",
    "\n",
    "rr19 = binning(rr,10,2)\n",
    "ll19 = binning(ll,10,2)"
   ]
  }
 ],
 "metadata": {
  "kernelspec": {
   "display_name": "Python 3",
   "language": "python",
   "name": "python3"
  },
  "language_info": {
   "codemirror_mode": {
    "name": "ipython",
    "version": 3
   },
   "file_extension": ".py",
   "mimetype": "text/x-python",
   "name": "python",
   "nbconvert_exporter": "python",
   "pygments_lexer": "ipython3",
   "version": "3.7.3"
  }
 },
 "nbformat": 4,
 "nbformat_minor": 2
}
