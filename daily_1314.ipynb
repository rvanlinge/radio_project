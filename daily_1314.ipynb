{
 "cells": [
  {
   "cell_type": "code",
   "execution_count": 1,
   "metadata": {},
   "outputs": [],
   "source": [
    "import pandas as pd\n",
    "import numpy as np \n",
    "import matplotlib.pyplot as plt\n",
    "import os\n",
    "import glob\n",
    "from radioReduction import *\n",
    "from astropy.stats import LombScargle\n",
    "from scipy import optimize\n",
    "from scipy.interpolate import make_interp_spline, BSpline\n",
    "import glob"
   ]
  },
  {
   "cell_type": "code",
   "execution_count": 15,
   "metadata": {},
   "outputs": [],
   "source": [
    "mjd = []\n",
    "flux = []\n",
    "err = []\n",
    "\n",
    "files = glob.glob('1314/daily/*-LLRR.dat')\n",
    "\n",
    "for i in files:\n",
    "    x = pd.read_table(i)\n",
    "    m,f,e = meanData(x)\n",
    "    mjd.append(m)\n",
    "    flux.append(f)\n",
    "    err.append(e)\n",
    "    \n",
    "mjd = np.array(mjd)\n",
    "flux = np.array(flux)\n",
    "err = np.array(err)\n",
    "\n",
    "dt = pd.DataFrame(data={'mjd':mjd,'re':flux,'ure':err})\n",
    "dt = dt.sort_values('mjd')"
   ]
  },
  {
   "cell_type": "code",
   "execution_count": 16,
   "metadata": {},
   "outputs": [],
   "source": [
    "dt.to_csv('1314/daily/daily_1314.csv')"
   ]
  },
  {
   "cell_type": "code",
   "execution_count": 17,
   "metadata": {},
   "outputs": [
    {
     "data": {
      "image/png": "[encoded data removed]",
      "text/plain": [
       "<Figure size 720x504 with 1 Axes>"
      ]
     },
     "metadata": {
      "needs_background": "light"
     },
     "output_type": "display_data"
    }
   ],
   "source": [
    "plt.figure(figsize=(10,7))\n",
    "plt.errorbar(dt['mjd'],dt['re'],yerr=dt['ure'],color='k',fmt='o')\n",
    "plt.ylim(.6,1.3)\n",
    "plt.show()"
   ]
  },
  {
   "cell_type": "code",
   "execution_count": 18,
   "metadata": {},
   "outputs": [
    {
     "data": {
      "text/html": [
       "<div>\n",
       "<style scoped>\n",
       "    .dataframe tbody tr th:only-of-type {\n",
       "        vertical-align: middle;\n",
       "    }\n",
       "\n",
       "    .dataframe tbody tr th {\n",
       "        vertical-align: top;\n",
       "    }\n",
       "\n",
       "    .dataframe thead th {\n",
       "        text-align: right;\n",
       "    }\n",
       "</style>\n",
       "<table border=\"1\" class=\"dataframe\">\n",
       "  <thead>\n",
       "    <tr style=\"text-align: right;\">\n",
       "      <th></th>\n",
       "      <th>mjd</th>\n",
       "      <th>re</th>\n",
       "      <th>ure</th>\n",
       "    </tr>\n",
       "  </thead>\n",
       "  <tbody>\n",
       "    <tr>\n",
       "      <th>2</th>\n",
       "      <td>57589.079052</td>\n",
       "      <td>1.015481</td>\n",
       "      <td>0.007672</td>\n",
       "    </tr>\n",
       "    <tr>\n",
       "      <th>0</th>\n",
       "      <td>57590.023889</td>\n",
       "      <td>1.090625</td>\n",
       "      <td>0.007376</td>\n",
       "    </tr>\n",
       "    <tr>\n",
       "      <th>1</th>\n",
       "      <td>57591.022223</td>\n",
       "      <td>1.102394</td>\n",
       "      <td>0.009150</td>\n",
       "    </tr>\n",
       "    <tr>\n",
       "      <th>6</th>\n",
       "      <td>57591.992813</td>\n",
       "      <td>1.227345</td>\n",
       "      <td>0.008060</td>\n",
       "    </tr>\n",
       "    <tr>\n",
       "      <th>4</th>\n",
       "      <td>57592.993497</td>\n",
       "      <td>1.000782</td>\n",
       "      <td>0.012601</td>\n",
       "    </tr>\n",
       "    <tr>\n",
       "      <th>5</th>\n",
       "      <td>57594.032138</td>\n",
       "      <td>1.000526</td>\n",
       "      <td>0.007945</td>\n",
       "    </tr>\n",
       "    <tr>\n",
       "      <th>3</th>\n",
       "      <td>57595.031702</td>\n",
       "      <td>0.932301</td>\n",
       "      <td>0.010495</td>\n",
       "    </tr>\n",
       "  </tbody>\n",
       "</table>\n",
       "</div>"
      ],
      "text/plain": [
       "            mjd        re       ure\n",
       "2  57589.079052  1.015481  0.007672\n",
       "0  57590.023889  1.090625  0.007376\n",
       "1  57591.022223  1.102394  0.009150\n",
       "6  57591.992813  1.227345  0.008060\n",
       "4  57592.993497  1.000782  0.012601\n",
       "5  57594.032138  1.000526  0.007945\n",
       "3  57595.031702  0.932301  0.010495"
      ]
     },
     "execution_count": 18,
     "metadata": {},
     "output_type": "execute_result"
    }
   ],
   "source": [
    "dt"
   ]
  },
  {
   "cell_type": "code",
   "execution_count": null,
   "metadata": {},
   "outputs": [],
   "source": []
  }
 ],
 "metadata": {
  "kernelspec": {
   "display_name": "Python 3",
   "language": "python",
   "name": "python3"
  },
  "language_info": {
   "codemirror_mode": {
    "name": "ipython",
    "version": 3
   },
   "file_extension": ".py",
   "mimetype": "text/x-python",
   "name": "python",
   "nbconvert_exporter": "python",
   "pygments_lexer": "ipython3",
   "version": "3.7.1"
  }
 },
 "nbformat": 4,
 "nbformat_minor": 2
}
